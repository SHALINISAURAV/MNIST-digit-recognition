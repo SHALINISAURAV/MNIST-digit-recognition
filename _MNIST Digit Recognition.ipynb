{
 "cells": [
  {
   "cell_type": "markdown",
   "id": "1be0a614-9aca-4433-ba13-782957b98162",
   "metadata": {},
   "source": [
    "## 📓 MNIST Digit Recognition"
   ]
  },
  {
   "cell_type": "markdown",
   "id": "f578e0b2-6b76-4c70-b1b9-e098524f992d",
   "metadata": {},
   "source": [
    "### INSTALL AND IMPORT LIBRARIES"
   ]
  },
  {
   "cell_type": "code",
   "execution_count": 3,
   "id": "b8048663-d08f-4cbb-8f5a-7a357a5bf67e",
   "metadata": {},
   "outputs": [],
   "source": [
    "# CNN\n",
    "import numpy as np\n",
    "import matplotlib.pyplot as plt\n",
    "from tensorflow.keras.datasets import mnist\n",
    "from tensorflow.keras.models import Sequential, load_model\n",
    "from tensorflow.keras.layers import Conv2D, MaxPooling2D, Flatten, Dense, Dropout\n",
    "from tensorflow.keras.utils import to_categorical\n",
    "\n",
    "# Random Forest\n",
    "from sklearn.ensemble import RandomForestClassifier\n",
    "from sklearn.metrics import accuracy_score, classification_report\n",
    "\n",
    "# Saving models\n",
    "import joblib\n",
    "\n",
    "# For data augmentation\n",
    "from tensorflow.keras.preprocessing.image import ImageDataGenerator\n",
    "\n",
    "# For custom image prediction\n",
    "import cv2"
   ]
  },
  {
   "cell_type": "markdown",
   "id": "ea2bc119-cf44-4215-a51d-09cb2fd7f2d7",
   "metadata": {},
   "source": [
    "### Load MNIST Dataset"
   ]
  },
  {
   "cell_type": "code",
   "execution_count": 6,
   "id": "c93eb4de-4274-46b7-ae41-908d1a645dc1",
   "metadata": {},
   "outputs": [
    {
     "name": "stdout",
     "output_type": "stream",
     "text": [
      "Training data shape: (60000, 28, 28)\n",
      "Test data shape: (10000, 28, 28)\n"
     ]
    }
   ],
   "source": [
    "(X_train, y_train), (X_test, y_test) = mnist.load_data()\n",
    "\n",
    "print(\"Training data shape:\", X_train.shape)\n",
    "print(\"Test data shape:\", X_test.shape)"
   ]
  },
  {
   "cell_type": "markdown",
   "id": "bd50245e-8cc4-46fe-8498-fef6b278d9c7",
   "metadata": {},
   "source": [
    "### Visualize Sample Digits"
   ]
  },
  {
   "cell_type": "code",
   "execution_count": 9,
   "id": "ece38717-2e09-49ee-a7d1-6950c4501776",
   "metadata": {},
   "outputs": [
    {
     "data": {
      "image/png": "[encoded data removed]",
      "text/plain": [
       "<Figure size 800x400 with 10 Axes>"
      ]
     },
     "metadata": {},
     "output_type": "display_data"
    }
   ],
   "source": [
    "plt.figure(figsize=(8, 4))\n",
    "for i in range(10):\n",
    "    plt.subplot(2, 5, i+1)\n",
    "    plt.imshow(X_train[i], cmap='gray')\n",
    "    plt.title(f\"Label: {y_train[i]}\")\n",
    "    plt.axis('off')\n",
    "plt.show()"
   ]
  },
  {
   "cell_type": "markdown",
   "id": "5d63019a-1773-4708-8e93-b3250334a0a8",
   "metadata": {},
   "source": [
    "### Preprocessing for CNN"
   ]
  },
  {
   "cell_type": "code",
   "execution_count": 12,
   "id": "dba4e89f-278b-4184-b240-633f76ecfee4",
   "metadata": {},
   "outputs": [],
   "source": [
    "X_train_cnn = X_train.astype('float32') / 255.0\n",
    "X_test_cnn = X_test.astype('float32') / 255.0\n",
    "\n",
    "X_train_cnn = np.expand_dims(X_train_cnn, -1)\n",
    "X_test_cnn = np.expand_dims(X_test_cnn, -1)\n",
    "\n",
    "y_train_cnn = to_categorical(y_train, 10)\n",
    "y_test_cnn = to_categorical(y_test, 10)"
   ]
  },
  {
   "cell_type": "markdown",
   "id": "ec596670-8291-4ce4-9adf-0f536a3c6261",
   "metadata": {},
   "source": [
    "### Build CNN Model"
   ]
  },
  {
   "cell_type": "code",
   "execution_count": 15,
   "id": "1b2a83f4-b763-4274-a52f-ecbd56f581bb",
   "metadata": {},
   "outputs": [
    {
     "name": "stderr",
     "output_type": "stream",
     "text": [
      "/opt/anaconda3/lib/python3.12/site-packages/keras/src/layers/convolutional/base_conv.py:107: UserWarning: Do not pass an `input_shape`/`input_dim` argument to a layer. When using Sequential models, prefer using an `Input(shape)` object as the first layer in the model instead.\n",
      "  super().__init__(activity_regularizer=activity_regularizer, **kwargs)\n"
     ]
    },
    {
     "data": {
      "text/html": [
       "<pre style=\"white-space:pre;overflow-x:auto;line-height:normal;font-family:Menlo,'DejaVu Sans Mono',consolas,'Courier New',monospace\"><span style=\"font-weight: bold\">Model: \"sequential\"</span>\n",
       "</pre>\n"
      ],
      "text/plain": [
       "\u001b[1mModel: \"sequential\"\u001b[0m\n"
      ]
     },
     "metadata": {},
     "output_type": "display_data"
    },
    {
     "data": {
      "text/html": [
       "<pre style=\"white-space:pre;overflow-x:auto;line-height:normal;font-family:Menlo,'DejaVu Sans Mono',consolas,'Courier New',monospace\">┏━━━━━━━━━━━━━━━━━━━━━━━━━━━━━━━━━┳━━━━━━━━━━━━━━━━━━━━━━━━┳━━━━━━━━━━━━━━━┓\n",
       "┃<span style=\"font-weight: bold\"> Layer (type)                    </span>┃<span style=\"font-weight: bold\"> Output Shape           </span>┃<span style=\"font-weight: bold\">       Param # </span>┃\n",
       "┡━━━━━━━━━━━━━━━━━━━━━━━━━━━━━━━━━╇━━━━━━━━━━━━━━━━━━━━━━━━╇━━━━━━━━━━━━━━━┩\n",
       "│ conv2d (<span style=\"color: #0087ff; text-decoration-color: #0087ff\">Conv2D</span>)                 │ (<span style=\"color: #00d7ff; text-decoration-color: #00d7ff\">None</span>, <span style=\"color: #00af00; text-decoration-color: #00af00\">26</span>, <span style=\"color: #00af00; text-decoration-color: #00af00\">26</span>, <span style=\"color: #00af00; text-decoration-color: #00af00\">32</span>)     │           <span style=\"color: #00af00; text-decoration-color: #00af00\">320</span> │\n",
       "├─────────────────────────────────┼────────────────────────┼───────────────┤\n",
       "│ max_pooling2d (<span style=\"color: #0087ff; text-decoration-color: #0087ff\">MaxPooling2D</span>)    │ (<span style=\"color: #00d7ff; text-decoration-color: #00d7ff\">None</span>, <span style=\"color: #00af00; text-decoration-color: #00af00\">13</span>, <span style=\"color: #00af00; text-decoration-color: #00af00\">13</span>, <span style=\"color: #00af00; text-decoration-color: #00af00\">32</span>)     │             <span style=\"color: #00af00; text-decoration-color: #00af00\">0</span> │\n",
       "├─────────────────────────────────┼────────────────────────┼───────────────┤\n",
       "│ conv2d_1 (<span style=\"color: #0087ff; text-decoration-color: #0087ff\">Conv2D</span>)               │ (<span style=\"color: #00d7ff; text-decoration-color: #00d7ff\">None</span>, <span style=\"color: #00af00; text-decoration-color: #00af00\">11</span>, <span style=\"color: #00af00; text-decoration-color: #00af00\">11</span>, <span style=\"color: #00af00; text-decoration-color: #00af00\">64</span>)     │        <span style=\"color: #00af00; text-decoration-color: #00af00\">18,496</span> │\n",
       "├─────────────────────────────────┼────────────────────────┼───────────────┤\n",
       "│ max_pooling2d_1 (<span style=\"color: #0087ff; text-decoration-color: #0087ff\">MaxPooling2D</span>)  │ (<span style=\"color: #00d7ff; text-decoration-color: #00d7ff\">None</span>, <span style=\"color: #00af00; text-decoration-color: #00af00\">5</span>, <span style=\"color: #00af00; text-decoration-color: #00af00\">5</span>, <span style=\"color: #00af00; text-decoration-color: #00af00\">64</span>)       │             <span style=\"color: #00af00; text-decoration-color: #00af00\">0</span> │\n",
       "├─────────────────────────────────┼────────────────────────┼───────────────┤\n",
       "│ flatten (<span style=\"color: #0087ff; text-decoration-color: #0087ff\">Flatten</span>)               │ (<span style=\"color: #00d7ff; text-decoration-color: #00d7ff\">None</span>, <span style=\"color: #00af00; text-decoration-color: #00af00\">1600</span>)           │             <span style=\"color: #00af00; text-decoration-color: #00af00\">0</span> │\n",
       "├─────────────────────────────────┼────────────────────────┼───────────────┤\n",
       "│ dense (<span style=\"color: #0087ff; text-decoration-color: #0087ff\">Dense</span>)                   │ (<span style=\"color: #00d7ff; text-decoration-color: #00d7ff\">None</span>, <span style=\"color: #00af00; text-decoration-color: #00af00\">128</span>)            │       <span style=\"color: #00af00; text-decoration-color: #00af00\">204,928</span> │\n",
       "├─────────────────────────────────┼────────────────────────┼───────────────┤\n",
       "│ dropout (<span style=\"color: #0087ff; text-decoration-color: #0087ff\">Dropout</span>)               │ (<span style=\"color: #00d7ff; text-decoration-color: #00d7ff\">None</span>, <span style=\"color: #00af00; text-decoration-color: #00af00\">128</span>)            │             <span style=\"color: #00af00; text-decoration-color: #00af00\">0</span> │\n",
       "├─────────────────────────────────┼────────────────────────┼───────────────┤\n",
       "│ dense_1 (<span style=\"color: #0087ff; text-decoration-color: #0087ff\">Dense</span>)                 │ (<span style=\"color: #00d7ff; text-decoration-color: #00d7ff\">None</span>, <span style=\"color: #00af00; text-decoration-color: #00af00\">10</span>)             │         <span style=\"color: #00af00; text-decoration-color: #00af00\">1,290</span> │\n",
       "└─────────────────────────────────┴────────────────────────┴───────────────┘\n",
       "</pre>\n"
      ],
      "text/plain": [
       "┏━━━━━━━━━━━━━━━━━━━━━━━━━━━━━━━━━┳━━━━━━━━━━━━━━━━━━━━━━━━┳━━━━━━━━━━━━━━━┓\n",
       "┃\u001b[1m \u001b[0m\u001b[1mLayer (type)                   \u001b[0m\u001b[1m \u001b[0m┃\u001b[1m \u001b[0m\u001b[1mOutput Shape          \u001b[0m\u001b[1m \u001b[0m┃\u001b[1m \u001b[0m\u001b[1m      Param #\u001b[0m\u001b[1m \u001b[0m┃\n",
       "┡━━━━━━━━━━━━━━━━━━━━━━━━━━━━━━━━━╇━━━━━━━━━━━━━━━━━━━━━━━━╇━━━━━━━━━━━━━━━┩\n",
       "│ conv2d (\u001b[38;5;33mConv2D\u001b[0m)                 │ (\u001b[38;5;45mNone\u001b[0m, \u001b[38;5;34m26\u001b[0m, \u001b[38;5;34m26\u001b[0m, \u001b[38;5;34m32\u001b[0m)     │           \u001b[38;5;34m320\u001b[0m │\n",
       "├─────────────────────────────────┼────────────────────────┼───────────────┤\n",
       "│ max_pooling2d (\u001b[38;5;33mMaxPooling2D\u001b[0m)    │ (\u001b[38;5;45mNone\u001b[0m, \u001b[38;5;34m13\u001b[0m, \u001b[38;5;34m13\u001b[0m, \u001b[38;5;34m32\u001b[0m)     │             \u001b[38;5;34m0\u001b[0m │\n",
       "├─────────────────────────────────┼────────────────────────┼───────────────┤\n",
       "│ conv2d_1 (\u001b[38;5;33mConv2D\u001b[0m)               │ (\u001b[38;5;45mNone\u001b[0m, \u001b[38;5;34m11\u001b[0m, \u001b[38;5;34m11\u001b[0m, \u001b[38;5;34m64\u001b[0m)     │        \u001b[38;5;34m18,496\u001b[0m │\n",
       "├─────────────────────────────────┼────────────────────────┼───────────────┤\n",
       "│ max_pooling2d_1 (\u001b[38;5;33mMaxPooling2D\u001b[0m)  │ (\u001b[38;5;45mNone\u001b[0m, \u001b[38;5;34m5\u001b[0m, \u001b[38;5;34m5\u001b[0m, \u001b[38;5;34m64\u001b[0m)       │             \u001b[38;5;34m0\u001b[0m │\n",
       "├─────────────────────────────────┼────────────────────────┼───────────────┤\n",
       "│ flatten (\u001b[38;5;33mFlatten\u001b[0m)               │ (\u001b[38;5;45mNone\u001b[0m, \u001b[38;5;34m1600\u001b[0m)           │             \u001b[38;5;34m0\u001b[0m │\n",
       "├─────────────────────────────────┼────────────────────────┼───────────────┤\n",
       "│ dense (\u001b[38;5;33mDense\u001b[0m)                   │ (\u001b[38;5;45mNone\u001b[0m, \u001b[38;5;34m128\u001b[0m)            │       \u001b[38;5;34m204,928\u001b[0m │\n",
       "├─────────────────────────────────┼────────────────────────┼───────────────┤\n",
       "│ dropout (\u001b[38;5;33mDropout\u001b[0m)               │ (\u001b[38;5;45mNone\u001b[0m, \u001b[38;5;34m128\u001b[0m)            │             \u001b[38;5;34m0\u001b[0m │\n",
       "├─────────────────────────────────┼────────────────────────┼───────────────┤\n",
       "│ dense_1 (\u001b[38;5;33mDense\u001b[0m)                 │ (\u001b[38;5;45mNone\u001b[0m, \u001b[38;5;34m10\u001b[0m)             │         \u001b[38;5;34m1,290\u001b[0m │\n",
       "└─────────────────────────────────┴────────────────────────┴───────────────┘\n"
      ]
     },
     "metadata": {},
     "output_type": "display_data"
    },
    {
     "data": {
      "text/html": [
       "<pre style=\"white-space:pre;overflow-x:auto;line-height:normal;font-family:Menlo,'DejaVu Sans Mono',consolas,'Courier New',monospace\"><span style=\"font-weight: bold\"> Total params: </span><span style=\"color: #00af00; text-decoration-color: #00af00\">225,034</span> (879.04 KB)\n",
       "</pre>\n"
      ],
      "text/plain": [
       "\u001b[1m Total params: \u001b[0m\u001b[38;5;34m225,034\u001b[0m (879.04 KB)\n"
      ]
     },
     "metadata": {},
     "output_type": "display_data"
    },
    {
     "data": {
      "text/html": [
       "<pre style=\"white-space:pre;overflow-x:auto;line-height:normal;font-family:Menlo,'DejaVu Sans Mono',consolas,'Courier New',monospace\"><span style=\"font-weight: bold\"> Trainable params: </span><span style=\"color: #00af00; text-decoration-color: #00af00\">225,034</span> (879.04 KB)\n",
       "</pre>\n"
      ],
      "text/plain": [
       "\u001b[1m Trainable params: \u001b[0m\u001b[38;5;34m225,034\u001b[0m (879.04 KB)\n"
      ]
     },
     "metadata": {},
     "output_type": "display_data"
    },
    {
     "data": {
      "text/html": [
       "<pre style=\"white-space:pre;overflow-x:auto;line-height:normal;font-family:Menlo,'DejaVu Sans Mono',consolas,'Courier New',monospace\"><span style=\"font-weight: bold\"> Non-trainable params: </span><span style=\"color: #00af00; text-decoration-color: #00af00\">0</span> (0.00 B)\n",
       "</pre>\n"
      ],
      "text/plain": [
       "\u001b[1m Non-trainable params: \u001b[0m\u001b[38;5;34m0\u001b[0m (0.00 B)\n"
      ]
     },
     "metadata": {},
     "output_type": "display_data"
    }
   ],
   "source": [
    "model = Sequential([\n",
    "    Conv2D(32, (3,3), activation='relu', input_shape=(28,28,1)),\n",
    "    MaxPooling2D((2,2)),\n",
    "    Conv2D(64, (3,3), activation='relu'),\n",
    "    MaxPooling2D((2,2)),\n",
    "    Flatten(),\n",
    "    Dense(128, activation='relu'),\n",
    "    Dropout(0.5),\n",
    "    Dense(10, activation='softmax')\n",
    "])\n",
    "\n",
    "model.compile(optimizer='adam', loss='categorical_crossentropy', metrics=['accuracy'])\n",
    "model.summary()"
   ]
  },
  {
   "cell_type": "markdown",
   "id": "36b7eebe-e9ce-4684-a7aa-2678ee6b9ef6",
   "metadata": {},
   "source": [
    "### Train CNN (Without Augmentation)"
   ]
  },
  {
   "cell_type": "code",
   "execution_count": 18,
   "id": "04efd0cf-fa6c-4704-a22f-5a277cc6ff6b",
   "metadata": {},
   "outputs": [
    {
     "name": "stdout",
     "output_type": "stream",
     "text": [
      "Epoch 1/5\n",
      "469/469 - 8s - 18ms/step - accuracy: 0.9066 - loss: 0.3078 - val_accuracy: 0.9780 - val_loss: 0.0642\n",
      "Epoch 2/5\n",
      "469/469 - 8s - 17ms/step - accuracy: 0.9699 - loss: 0.1002 - val_accuracy: 0.9864 - val_loss: 0.0428\n",
      "Epoch 3/5\n",
      "469/469 - 8s - 17ms/step - accuracy: 0.9775 - loss: 0.0742 - val_accuracy: 0.9882 - val_loss: 0.0360\n",
      "Epoch 4/5\n",
      "469/469 - 8s - 18ms/step - accuracy: 0.9816 - loss: 0.0603 - val_accuracy: 0.9892 - val_loss: 0.0333\n",
      "Epoch 5/5\n",
      "469/469 - 8s - 18ms/step - accuracy: 0.9852 - loss: 0.0502 - val_accuracy: 0.9896 - val_loss: 0.0311\n"
     ]
    }
   ],
   "source": [
    "history = model.fit(\n",
    "    X_train_cnn, y_train_cnn,\n",
    "    validation_data=(X_test_cnn, y_test_cnn),\n",
    "    epochs=5,\n",
    "    batch_size=128,\n",
    "    verbose=2\n",
    ")"
   ]
  },
  {
   "cell_type": "markdown",
   "id": "90aae4be-f905-4a66-bc2e-4616a919e230",
   "metadata": {},
   "source": [
    "### Evaluate CNN"
   ]
  },
  {
   "cell_type": "code",
   "execution_count": 21,
   "id": "68147f8f-dbae-410b-9eff-f1435ff67b4f",
   "metadata": {},
   "outputs": [
    {
     "name": "stdout",
     "output_type": "stream",
     "text": [
      "\u001b[1m313/313\u001b[0m \u001b[32m━━━━━━━━━━━━━━━━━━━━\u001b[0m\u001b[37m\u001b[0m \u001b[1m1s\u001b[0m 2ms/step - accuracy: 0.9881 - loss: 0.0366\n",
      "CNN Test Accuracy (No Augmentation): 98.96%\n"
     ]
    }
   ],
   "source": [
    "loss, acc = model.evaluate(X_test_cnn, y_test_cnn)\n",
    "print(f\"CNN Test Accuracy (No Augmentation): {acc*100:.2f}%\")"
   ]
  },
  {
   "cell_type": "markdown",
   "id": "f56637eb-2c7c-45bc-a279-57391d89701f",
   "metadata": {},
   "source": [
    "### Preprocessing for Random Forest"
   ]
  },
  {
   "cell_type": "code",
   "execution_count": 24,
   "id": "37272fa5-6319-4116-a87b-c32a60081e73",
   "metadata": {},
   "outputs": [],
   "source": [
    "X_train_rf = X_train.reshape(X_train.shape[0], -1) / 255.0\n",
    "X_test_rf = X_test.reshape(X_test.shape[0], -1) / 255.0"
   ]
  },
  {
   "cell_type": "markdown",
   "id": "3e2fef65-8881-48d8-8bd7-aaba4ac3aa2c",
   "metadata": {},
   "source": [
    "### Train Random Forest"
   ]
  },
  {
   "cell_type": "code",
   "execution_count": 27,
   "id": "a6bc06f5-29c5-477c-a104-28048f65010a",
   "metadata": {},
   "outputs": [
    {
     "name": "stdout",
     "output_type": "stream",
     "text": [
      "Random Forest Accuracy: 96.92%\n"
     ]
    }
   ],
   "source": [
    "rf = RandomForestClassifier(n_estimators=100, random_state=42)\n",
    "rf.fit(X_train_rf, y_train)\n",
    "\n",
    "y_pred_rf = rf.predict(X_test_rf)\n",
    "print(f\"Random Forest Accuracy: {accuracy_score(y_test, y_pred_rf)*100:.2f}%\")"
   ]
  },
  {
   "cell_type": "markdown",
   "id": "3b235c8d-4943-4c49-98cb-be148cfc25be",
   "metadata": {},
   "source": [
    "### Compare Results"
   ]
  },
  {
   "cell_type": "code",
   "execution_count": 30,
   "id": "f1257500-df8d-47e6-a427-10bc6509dfde",
   "metadata": {},
   "outputs": [
    {
     "name": "stdout",
     "output_type": "stream",
     "text": [
      "\n",
      "Random Forest Classification Report:\n",
      "              precision    recall  f1-score   support\n",
      "\n",
      "           0       0.97      0.99      0.98       980\n",
      "           1       0.99      0.99      0.99      1135\n",
      "           2       0.96      0.96      0.96      1032\n",
      "           3       0.96      0.96      0.96      1010\n",
      "           4       0.98      0.97      0.97       982\n",
      "           5       0.97      0.96      0.97       892\n",
      "           6       0.98      0.97      0.98       958\n",
      "           7       0.97      0.96      0.97      1028\n",
      "           8       0.96      0.96      0.96       974\n",
      "           9       0.96      0.96      0.96      1009\n",
      "\n",
      "    accuracy                           0.97     10000\n",
      "   macro avg       0.97      0.97      0.97     10000\n",
      "weighted avg       0.97      0.97      0.97     10000\n",
      "\n"
     ]
    }
   ],
   "source": [
    "print(\"\\nRandom Forest Classification Report:\")\n",
    "print(classification_report(y_test, y_pred_rf))"
   ]
  },
  {
   "cell_type": "markdown",
   "id": "31887582-5770-40ce-9785-571d942e2de3",
   "metadata": {},
   "source": [
    "### Plot CNN Training History"
   ]
  },
  {
   "cell_type": "code",
   "execution_count": 33,
   "id": "9a2a156e-4eba-4b3c-af33-56c21511acce",
   "metadata": {},
   "outputs": [
    {
     "data": {
      "image/png": "[encoded data removed]",
      "text/plain": [
       "<Figure size 640x480 with 1 Axes>"
      ]
     },
     "metadata": {},
     "output_type": "display_data"
    }
   ],
   "source": [
    "plt.plot(history.history['accuracy'], label='Train Accuracy')\n",
    "plt.plot(history.history['val_accuracy'], label='Validation Accuracy')\n",
    "plt.xlabel('Epoch')\n",
    "plt.ylabel('Accuracy')\n",
    "plt.legend()\n",
    "plt.show()"
   ]
  },
  {
   "cell_type": "markdown",
   "id": "2a54b28e-e330-4f0b-bccd-e9cbc1b4a84e",
   "metadata": {},
   "source": [
    "### Save Trained Models"
   ]
  },
  {
   "cell_type": "code",
   "execution_count": 38,
   "id": "5122d202-10c4-43e6-b095-764b85f47cf9",
   "metadata": {},
   "outputs": [
    {
     "name": "stderr",
     "output_type": "stream",
     "text": [
      "WARNING:absl:You are saving your model as an HDF5 file via `model.save()` or `keras.saving.save_model(model)`. This file format is considered legacy. We recommend using instead the native Keras format, e.g. `model.save('my_model.keras')` or `keras.saving.save_model(model, 'my_model.keras')`. \n"
     ]
    },
    {
     "name": "stdout",
     "output_type": "stream",
     "text": [
      "✅ CNN model saved as mnist_cnn_model.h5\n",
      "✅ Random Forest model saved as mnist_rf_model.pkl\n"
     ]
    }
   ],
   "source": [
    "model.save(\"mnist_cnn_model.h5\")\n",
    "print(\"✅ CNN model saved as mnist_cnn_model.h5\")\n",
    "\n",
    "joblib.dump(rf, \"mnist_rf_model.pkl\")\n",
    "print(\"✅ Random Forest model saved as mnist_rf_model.pkl\")"
   ]
  },
  {
   "cell_type": "markdown",
   "id": "f08777a4-cc48-4a95-a2e9-e01bf93c090f",
   "metadata": {},
   "source": [
    "### Load Models"
   ]
  },
  {
   "cell_type": "code",
   "execution_count": 41,
   "id": "1afc6f74-44df-40cc-80fe-e26e4dcb60ee",
   "metadata": {},
   "outputs": [
    {
     "name": "stderr",
     "output_type": "stream",
     "text": [
      "WARNING:absl:Compiled the loaded model, but the compiled metrics have yet to be built. `model.compile_metrics` will be empty until you train or evaluate the model.\n"
     ]
    },
    {
     "name": "stdout",
     "output_type": "stream",
     "text": [
      "✅ CNN model loaded\n",
      "✅ Random Forest model loaded\n"
     ]
    }
   ],
   "source": [
    "cnn_loaded = load_model(\"mnist_cnn_model.h5\")\n",
    "print(\"✅ CNN model loaded\")\n",
    "\n",
    "rf_loaded = joblib.load(\"mnist_rf_model.pkl\")\n",
    "print(\"✅ Random Forest model loaded\")"
   ]
  },
  {
   "cell_type": "markdown",
   "id": "187b346b-5c7f-450a-b5c5-5593cf143c2f",
   "metadata": {},
   "source": [
    "### Predict on a Custom Image"
   ]
  },
  {
   "cell_type": "code",
   "execution_count": 63,
   "id": "7aaa8716-dad5-4787-9a29-e5e223abfa5a",
   "metadata": {},
   "outputs": [
    {
     "name": "stdout",
     "output_type": "stream",
     "text": [
      "\u001b[1m1/1\u001b[0m \u001b[32m━━━━━━━━━━━━━━━━━━━━\u001b[0m\u001b[37m\u001b[0m \u001b[1m0s\u001b[0m 21ms/step\n",
      "🖥 CNN Prediction: 3\n",
      "🌲 Random Forest Prediction: 3\n"
     ]
    }
   ],
   "source": [
    "# Load external digit image (ensure it's 28x28 grayscale)\n",
    "img = cv2.imread(\"my_digit.png\", cv2.IMREAD_GRAYSCALE)\n",
    "img = cv2.resize(img, (28, 28))\n",
    "\n",
    "# Invert if necessary\n",
    "if np.mean(img) > 127:\n",
    "    img = 255 - img\n",
    "\n",
    "# CNN prediction\n",
    "img_cnn = img.astype('float32') / 255.0\n",
    "img_cnn = np.expand_dims(img_cnn, axis=(0, -1))\n",
    "pred_cnn = np.argmax(cnn_loaded.predict(img_cnn))\n",
    "print(f\"🖥 CNN Prediction: {pred_cnn}\")\n",
    "\n",
    "# Random Forest prediction\n",
    "img_rf = img.reshape(1, -1) / 255.0\n",
    "pred_rf = rf_loaded.predict(img_rf)[0]\n",
    "print(f\"🌲 Random Forest Prediction: {pred_rf}\")"
   ]
  },
  {
   "cell_type": "code",
   "execution_count": 65,
   "id": "76b5de8c-7cee-4a99-aa0c-115e4079f1f0",
   "metadata": {},
   "outputs": [
    {
     "name": "stdout",
     "output_type": "stream",
     "text": [
      "\u001b[1m1/1\u001b[0m \u001b[32m━━━━━━━━━━━━━━━━━━━━\u001b[0m\u001b[37m\u001b[0m \u001b[1m0s\u001b[0m 22ms/step\n",
      "🖥 CNN Prediction: 9\n",
      "🌲 Random Forest Prediction: 5\n"
     ]
    }
   ],
   "source": [
    "# Load external digit image (ensure it's 28x28 grayscale)\n",
    "img = cv2.imread(\"my_digit1.png\", cv2.IMREAD_GRAYSCALE)\n",
    "img = cv2.resize(img, (28, 28))\n",
    "\n",
    "# Invert if necessary\n",
    "if np.mean(img) > 127:\n",
    "    img = 255 - img\n",
    "\n",
    "# CNN prediction\n",
    "img_cnn = img.astype('float32') / 255.0\n",
    "img_cnn = np.expand_dims(img_cnn, axis=(0, -1))\n",
    "pred_cnn = np.argmax(cnn_loaded.predict(img_cnn))\n",
    "print(f\"🖥 CNN Prediction: {pred_cnn}\")\n",
    "\n",
    "# Random Forest prediction\n",
    "img_rf = img.reshape(1, -1) / 255.0\n",
    "pred_rf = rf_loaded.predict(img_rf)[0]\n",
    "print(f\"🌲 Random Forest Prediction: {pred_rf}\")"
   ]
  },
  {
   "cell_type": "markdown",
   "id": "1491f07c-43e4-4976-acf5-d8b29ff42c06",
   "metadata": {},
   "source": [
    "### Show Misclassified Digits"
   ]
  },
  {
   "cell_type": "code",
   "execution_count": 68,
   "id": "bcabdb5c-2635-4fd1-a107-f8ee6d2b6ec0",
   "metadata": {},
   "outputs": [
    {
     "name": "stdout",
     "output_type": "stream",
     "text": [
      "\u001b[1m313/313\u001b[0m \u001b[32m━━━━━━━━━━━━━━━━━━━━\u001b[0m\u001b[37m\u001b[0m \u001b[1m1s\u001b[0m 2ms/step\n"
     ]
    },
    {
     "data": {
      "image/png": "[encoded data removed]",
      "text/plain": [
       "<Figure size 1000x400 with 10 Axes>"
      ]
     },
     "metadata": {},
     "output_type": "display_data"
    }
   ],
   "source": [
    "cnn_preds = np.argmax(cnn_loaded.predict(X_test_cnn), axis=1)\n",
    "misclassified_idx = np.where(cnn_preds != y_test)[0]\n",
    "\n",
    "plt.figure(figsize=(10, 4))\n",
    "for i, idx in enumerate(misclassified_idx[:10]):\n",
    "    plt.subplot(2, 5, i+1)\n",
    "    plt.imshow(X_test[idx], cmap='gray')\n",
    "    plt.title(f\"T: {y_test[idx]}, P: {cnn_preds[idx]}\")\n",
    "    plt.axis('off')\n",
    "plt.show()"
   ]
  },
  {
   "cell_type": "markdown",
   "id": "5af64226-7f5b-42b6-a01e-8ff223a85a94",
   "metadata": {},
   "source": [
    "### Data Augmentation"
   ]
  },
  {
   "cell_type": "code",
   "execution_count": 71,
   "id": "81391d48-3801-4347-a6fd-745d4e4095f2",
   "metadata": {},
   "outputs": [],
   "source": [
    "datagen = ImageDataGenerator(\n",
    "    rotation_range=10,\n",
    "    width_shift_range=0.1,\n",
    "    height_shift_range=0.1,\n",
    "    zoom_range=0.1\n",
    ")\n",
    "datagen.fit(X_train_cnn)"
   ]
  },
  {
   "cell_type": "markdown",
   "id": "de7e6535-c8f1-4ce6-96cb-af90735ff70f",
   "metadata": {},
   "source": [
    "### Train CNN with Augmentation"
   ]
  },
  {
   "cell_type": "code",
   "execution_count": 74,
   "id": "1742d780-407c-479e-80bc-efe6d7df244d",
   "metadata": {},
   "outputs": [
    {
     "name": "stdout",
     "output_type": "stream",
     "text": [
      "Epoch 1/5\n"
     ]
    },
    {
     "name": "stderr",
     "output_type": "stream",
     "text": [
      "/opt/anaconda3/lib/python3.12/site-packages/keras/src/trainers/data_adapters/py_dataset_adapter.py:121: UserWarning: Your `PyDataset` class should call `super().__init__(**kwargs)` in its constructor. `**kwargs` can include `workers`, `use_multiprocessing`, `max_queue_size`. Do not pass these arguments to `fit()`, as they will be ignored.\n",
      "  self._warn_if_super_not_called()\n"
     ]
    },
    {
     "name": "stdout",
     "output_type": "stream",
     "text": [
      "469/469 - 9s - 19ms/step - accuracy: 0.9400 - loss: 0.1971 - val_accuracy: 0.9910 - val_loss: 0.0278\n",
      "Epoch 2/5\n",
      "469/469 - 9s - 19ms/step - accuracy: 0.9637 - loss: 0.1243 - val_accuracy: 0.9918 - val_loss: 0.0233\n",
      "Epoch 3/5\n",
      "469/469 - 9s - 18ms/step - accuracy: 0.9698 - loss: 0.1031 - val_accuracy: 0.9926 - val_loss: 0.0216\n",
      "Epoch 4/5\n",
      "469/469 - 8s - 18ms/step - accuracy: 0.9736 - loss: 0.0884 - val_accuracy: 0.9926 - val_loss: 0.0227\n",
      "Epoch 5/5\n",
      "469/469 - 9s - 18ms/step - accuracy: 0.9755 - loss: 0.0838 - val_accuracy: 0.9924 - val_loss: 0.0219\n"
     ]
    }
   ],
   "source": [
    "history_aug = model.fit(\n",
    "    datagen.flow(X_train_cnn, y_train_cnn, batch_size=128),\n",
    "    validation_data=(X_test_cnn, y_test_cnn),\n",
    "    epochs=5,\n",
    "    verbose=2\n",
    ")"
   ]
  },
  {
   "cell_type": "markdown",
   "id": "b2edcc22-14c9-4e9f-a534-536f6440762f",
   "metadata": {},
   "source": [
    "### Evaluate Augmented Model"
   ]
  },
  {
   "cell_type": "code",
   "execution_count": 77,
   "id": "f03e25ce-cb76-4516-9625-86603bd91d25",
   "metadata": {},
   "outputs": [
    {
     "name": "stdout",
     "output_type": "stream",
     "text": [
      "\u001b[1m313/313\u001b[0m \u001b[32m━━━━━━━━━━━━━━━━━━━━\u001b[0m\u001b[37m\u001b[0m \u001b[1m1s\u001b[0m 2ms/step - accuracy: 0.9901 - loss: 0.0249\n",
      "Accuracy without Augmentation: 98.96%\n",
      "Accuracy with Augmentation: 99.24%\n"
     ]
    }
   ],
   "source": [
    "loss_aug, acc_aug = model.evaluate(X_test_cnn, y_test_cnn)\n",
    "print(f\"Accuracy without Augmentation: {acc*100:.2f}%\")\n",
    "print(f\"Accuracy with Augmentation: {acc_aug*100:.2f}%\")"
   ]
  },
  {
   "cell_type": "markdown",
   "id": "36f84e4a-6094-48a8-ad2e-fcd8f8a2015a",
   "metadata": {},
   "source": [
    "### Visualize Augmented Images"
   ]
  },
  {
   "cell_type": "code",
   "execution_count": 80,
   "id": "f321d8ab-fc32-4e73-892e-99ada655ce1c",
   "metadata": {},
   "outputs": [
    {
     "data": {
      "image/png": "[encoded data removed]",
      "text/plain": [
       "<Figure size 800x200 with 8 Axes>"
      ]
     },
     "metadata": {},
     "output_type": "display_data"
    }
   ],
   "source": [
    "augmented_images, _ = next(datagen.flow(X_train_cnn, y_train_cnn, batch_size=8))\n",
    "\n",
    "plt.figure(figsize=(8, 2))\n",
    "for i in range(8):\n",
    "    plt.subplot(1, 8, i+1)\n",
    "    plt.imshow(augmented_images[i].reshape(28, 28), cmap='gray')\n",
    "    plt.axis('off')\n",
    "plt.show()"
   ]
  },
  {
   "cell_type": "markdown",
   "id": "1f8e2d33-21df-4201-9ff0-952100eefa62",
   "metadata": {},
   "source": [
    "## Summary"
   ]
  },
  {
   "cell_type": "code",
   "execution_count": 83,
   "id": "902d13eb-f6f5-4ef3-a61a-5d82d8b79596",
   "metadata": {},
   "outputs": [
    {
     "name": "stdout",
     "output_type": "stream",
     "text": [
      "\n",
      "🔹 CNN outperforms Random Forest because it learns spatial patterns in images.\n",
      "🔹 Random Forest loses spatial information when flattening.\n",
      "🔹 Data Augmentation improves generalization by simulating variations.\n",
      "🔹 Saving and loading models makes deployment easier.\n",
      "🔹 Error analysis reveals tricky cases for further improvement.\n",
      "\n"
     ]
    }
   ],
   "source": [
    "print(\"\"\"\n",
    "🔹 CNN outperforms Random Forest because it learns spatial patterns in images.\n",
    "🔹 Random Forest loses spatial information when flattening.\n",
    "🔹 Data Augmentation improves generalization by simulating variations.\n",
    "🔹 Saving and loading models makes deployment easier.\n",
    "🔹 Error analysis reveals tricky cases for further improvement.\n",
    "\"\"\")"
   ]
  },
  {
   "cell_type": "code",
   "execution_count": null,
   "id": "c48d0696-3729-4bc4-a089-155e017b6d18",
   "metadata": {},
   "outputs": [],
   "source": []
  }
 ],
 "metadata": {
  "kernelspec": {
   "display_name": "Python 3 (ipykernel)",
   "language": "python",
   "name": "python3"
  },
  "language_info": {
   "codemirror_mode": {
    "name": "ipython",
    "version": 3
   },
   "file_extension": ".py",
   "mimetype": "text/x-python",
   "name": "python",
   "nbconvert_exporter": "python",
   "pygments_lexer": "ipython3",
   "version": "3.12.4"
  }
 },
 "nbformat": 4,
 "nbformat_minor": 5
}
